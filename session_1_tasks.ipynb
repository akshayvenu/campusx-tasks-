{
  "cells": [
    {
      "cell_type": "markdown",
      "metadata": {
        "id": "A05OG15VqOPF"
      },
      "source": [
        "# Task : Session 1\n",
        "Solve these questions own your own and try to test yourself what you have learned in the session.\n",
        "\n",
        "Happy Learning!"
      ]
    },
    {
      "cell_type": "markdown",
      "metadata": {
        "id": "2doIXf8bqe9_"
      },
      "source": [
        "### Q1 :- Print the given strings as per stated format.\n",
        "\n",
        "**Given strings**: \n",
        "```\n",
        "\"Data\" \"Science\" \"Mentorship\" \"Program\" \n",
        "\"By\" \"CampusX\"\n",
        "```\n",
        "**Output**: \n",
        "``` \n",
        "Data-Science-Mentorship-Program-started-By-CampusX\n",
        "```\n",
        "\n",
        "Concept- [Seperator and End]"
      ]
    },
    {
      "cell_type": "code",
      "execution_count": 3,
      "metadata": {
        "colab": {
          "base_uri": "https://localhost:8080/"
        },
        "id": "-em6d3KErDtp",
        "outputId": "ec7f107c-f99d-4fc3-d044-08d1e383d226"
      },
      "outputs": [
        {
          "name": "stdout",
          "output_type": "stream",
          "text": [
            "Data-Science-Mentorship-Program-started-By-CampusX\n"
          ]
        }
      ],
      "source": [
        "# Write your code here\n",
        "print(\"Data\",\"Science\",\"Mentorship\",\"Program\",sep='-',end='-started-')\n",
        "print(\"By\",\"CampusX\",sep='-')"
      ]
    },
    {
      "cell_type": "markdown",
      "metadata": {
        "id": "1KUpN7ZTrC3_"
      },
      "source": [
        "### Q2:- Write a program that will convert celsius value to fahrenheit."
      ]
    },
    {
      "cell_type": "code",
      "execution_count": 4,
      "metadata": {
        "colab": {
          "base_uri": "https://localhost:8080/"
        },
        "id": "yxKYhYQiqWfj",
        "outputId": "4285d1d4-0d74-41fa-9f87-e737ec781081"
      },
      "outputs": [
        {
          "ename": "ValueError",
          "evalue": "could not convert string to float: ''",
          "output_type": "error",
          "traceback": [
            "\u001b[1;31m---------------------------------------------------------------------------\u001b[0m",
            "\u001b[1;31mValueError\u001b[0m                                Traceback (most recent call last)",
            "\u001b[1;32mc:\\Users\\capta\\campusx tasks\\session_1_tasks.ipynb Cell 5\u001b[0m in \u001b[0;36m2\n\u001b[0;32m      <a href='vscode-notebook-cell:/c%3A/Users/capta/campusx%20tasks/session_1_tasks.ipynb#W4sZmlsZQ%3D%3D?line=0'>1</a>\u001b[0m \u001b[39m# Write your code here\u001b[39;00m\n\u001b[1;32m----> <a href='vscode-notebook-cell:/c%3A/Users/capta/campusx%20tasks/session_1_tasks.ipynb#W4sZmlsZQ%3D%3D?line=1'>2</a>\u001b[0m num\u001b[39m=\u001b[39m\u001b[39mfloat\u001b[39;49m(\u001b[39minput\u001b[39;49m(\u001b[39m'\u001b[39;49m\u001b[39mEnter celsius\u001b[39;49m\u001b[39m'\u001b[39;49m))\n\u001b[0;32m      <a href='vscode-notebook-cell:/c%3A/Users/capta/campusx%20tasks/session_1_tasks.ipynb#W4sZmlsZQ%3D%3D?line=2'>3</a>\u001b[0m fahrenheit\u001b[39m=\u001b[39m(num\u001b[39m*\u001b[39m\u001b[39m1.8\u001b[39m)\u001b[39m+\u001b[39m\u001b[39m32\u001b[39m\n\u001b[0;32m      <a href='vscode-notebook-cell:/c%3A/Users/capta/campusx%20tasks/session_1_tasks.ipynb#W4sZmlsZQ%3D%3D?line=3'>4</a>\u001b[0m \u001b[39mprint\u001b[39m(fahrenheit)\n",
            "\u001b[1;31mValueError\u001b[0m: could not convert string to float: ''"
          ]
        }
      ],
      "source": [
        "# Write your code here\n",
        "num=float(input('Enter celsius'))\n",
        "fahrenheit=(num*1.8)+32\n",
        "print(fahrenheit)"
      ]
    },
    {
      "cell_type": "markdown",
      "metadata": {
        "id": "RLrOBBJurLB2"
      },
      "source": [
        "### Q3:- Take 2 numbers as input from the user.Write a program to swap the numbers without using any special python syntax."
      ]
    },
    {
      "cell_type": "code",
      "execution_count": null,
      "metadata": {
        "colab": {
          "base_uri": "https://localhost:8080/"
        },
        "id": "yPn7if0TrJ4F",
        "outputId": "49827c33-82b2-4750-e07e-ff430889ad28"
      },
      "outputs": [
        {
          "name": "stdout",
          "output_type": "stream",
          "text": [
            "enter your number1\n",
            "enter your number0\n",
            "0 1\n"
          ]
        }
      ],
      "source": [
        "# Write your code here\n",
        "a=int(input(\"enter your number\"))\n",
        "b=int(input(\"enter your number\"))\n",
        "\n",
        "temp=a\n",
        "a=b\n",
        "b=temp\n",
        "print(a,b)"
      ]
    },
    {
      "cell_type": "markdown",
      "metadata": {
        "id": "waLCP1bjr7ML"
      },
      "source": [
        "### Q4:- Write a program to find the euclidean distance between two coordinates.Take both the coordinates from the user as input."
      ]
    },
    {
      "cell_type": "code",
      "execution_count": null,
      "metadata": {
        "colab": {
          "base_uri": "https://localhost:8080/"
        },
        "id": "Pl1Sv-xnrxnH",
        "outputId": "0687c356-896c-494e-f1a5-0a9586f7a6a6"
      },
      "outputs": [
        {
          "name": "stdout",
          "output_type": "stream",
          "text": [
            "enter number0\n",
            "enter number0\n",
            "enter number2\n",
            "enter number2\n",
            "2.83\n"
          ]
        }
      ],
      "source": [
        "# x1,x2   y1,y2\n",
        "# input lega\n",
        "x1=float(input('enter number'))\n",
        "y1=float(input('enter number'))\n",
        "x2=float(input('enter number'))\n",
        "y2=float(input('enter number'))\n",
        "# formula\n",
        "d=((x2-x1)**2+(y2-y1)**2)**.5\n",
        "# print\n",
        "print(round(d,2))"
      ]
    },
    {
      "cell_type": "code",
      "execution_count": null,
      "metadata": {
        "colab": {
          "base_uri": "https://localhost:8080/"
        },
        "id": "mvQTn1-y71XP",
        "outputId": "b77cd605-a670-47e7-944c-09a7526c1fe5"
      },
      "outputs": [
        {
          "data": {
            "text/plain": [
              "16"
            ]
          },
          "execution_count": 10,
          "metadata": {},
          "output_type": "execute_result"
        }
      ],
      "source": [
        "4**2"
      ]
    },
    {
      "cell_type": "markdown",
      "metadata": {
        "id": "VLrhg-FRsHjR"
      },
      "source": [
        "### Q5:- Write a program to find the simple interest when the value of principle,rate of interest and time period is provided by the user.\n"
      ]
    },
    {
      "cell_type": "code",
      "execution_count": null,
      "metadata": {
        "colab": {
          "base_uri": "https://localhost:8080/"
        },
        "id": "s40DlReZsTmY",
        "outputId": "e150e6f3-efdf-423c-e553-18391cac9db8"
      },
      "outputs": [
        {
          "name": "stdout",
          "output_type": "stream",
          "text": [
            "principle amount 1000\n",
            "rate of intrest 2\n",
            "time period 2\n",
            "40.0\n"
          ]
        }
      ],
      "source": [
        "# Write your code here\n",
        "# Simple Interest = (P x T x R)/100 \n",
        "# input lelo\n",
        "p=float(input('principle amount '))\n",
        "r=float(input('rate of intrest '))\n",
        "t=float(input('time period '))\n",
        "\n",
        "Simple_Interest = (p*r*t)/100\n",
        "print(Simple_Interest)"
      ]
    },
    {
      "cell_type": "markdown",
      "metadata": {
        "id": "qgR2vyw69bl1"
      },
      "source": []
    },
    {
      "cell_type": "markdown",
      "metadata": {
        "id": "LMy0BTUktYKa"
      },
      "source": [
        "### Q6:- Write a program that will tell the number of dogs and chicken are there when the user will provide the value of total heads and legs.\n",
        "\n",
        "For example:\n",
        "Input:\n",
        "heads -> 4\n",
        "legs -> 12\n",
        "<br>\n",
        "Output:\n",
        "dogs -> 2\n",
        "chicken -> 2\n",
        "\n",
        "\n",
        "\n"
      ]
    },
    {
      "cell_type": "code",
      "execution_count": null,
      "metadata": {
        "id": "XSBvJoA4tXaG"
      },
      "outputs": [],
      "source": [
        "# Write your code here\n",
        "\n",
        "# dogs=(legs-(head*2))/2\n",
        "# chicken=head-dogs\n",
        "\n",
        "# temp=0\n",
        "# if(leg/2==head):\n",
        "#   chick=leg/2 \n",
        "# elif((leg/2)>head):\n",
        "#   temp = (leg/2)-head dog = temp chick = head-temp"
      ]
    },
    {
      "cell_type": "markdown",
      "metadata": {
        "id": "gJ7C5kZYt4BP"
      },
      "source": [
        "### Q7:- Write a program to find the sum of squares of first n natural numbers where n will be provided by the user."
      ]
    },
    {
      "cell_type": "code",
      "execution_count": null,
      "metadata": {
        "colab": {
          "base_uri": "https://localhost:8080/"
        },
        "id": "_tHsmEHzt2nX",
        "outputId": "d048b152-ee45-40ab-9e7e-8322b9740bdc"
      },
      "outputs": [
        {
          "name": "stdout",
          "output_type": "stream",
          "text": [
            "enter3\n",
            "14\n"
          ]
        }
      ],
      "source": [
        "n=int(input('enter'))\n",
        "a=0\n",
        "for i in range (1,n+1):\n",
        "  a=a+i*i\n",
        "\n",
        "print(a)"
      ]
    },
    {
      "cell_type": "code",
      "execution_count": null,
      "metadata": {
        "colab": {
          "base_uri": "https://localhost:8080/"
        },
        "id": "DNJ5KYXHWpJN",
        "outputId": "1c2f3e95-7839-425a-fbb9-4ffafa600456"
      },
      "outputs": [
        {
          "name": "stdout",
          "output_type": "stream",
          "text": [
            "enter number 3\n",
            "14\n"
          ]
        }
      ],
      "source": [
        "num=int(input('enter number '))\n",
        "i=1\n",
        "sum=0\n",
        "while (i<=num):\n",
        "  sum=sum+i*i\n",
        "  i=i+1\n",
        "print(sum)\n"
      ]
    },
    {
      "cell_type": "markdown",
      "metadata": {
        "id": "FHrMM7g-yG1h"
      },
      "source": [
        "### Q8:- Given the first 2 terms of an Arithmetic Series.Find the Nth term of the series. Assume all inputs are provided by the user."
      ]
    },
    {
      "cell_type": "code",
      "execution_count": null,
      "metadata": {
        "colab": {
          "base_uri": "https://localhost:8080/"
        },
        "id": "go4_kmZmyVSx",
        "outputId": "c8659bba-f493-4a85-a67c-927f0d59dc5b"
      },
      "outputs": [
        {
          "name": "stdout",
          "output_type": "stream",
          "text": [
            "enter3\n",
            "enter6\n",
            "enter5\n",
            "15\n"
          ]
        }
      ],
      "source": [
        "\n",
        "first_num=int(input('enter'))\n",
        "second_num=int(input('enter'))\n",
        "\n",
        "\n",
        "n=int(input('enter'))\n",
        "\n",
        "d=second_num-first_num\n",
        "\n",
        "an=first_num+(n-1)*d\n",
        "\n",
        "print(an)\n"
      ]
    },
    {
      "cell_type": "markdown",
      "metadata": {
        "id": "QgyRX_es1oum"
      },
      "source": [
        "### Q9:- Given 2 fractions, find the sum of those 2 fractions.Take the numerator and denominator values of the fractions from the user."
      ]
    },
    {
      "cell_type": "code",
      "execution_count": null,
      "metadata": {
        "colab": {
          "base_uri": "https://localhost:8080/"
        },
        "id": "X05xqFS1yW16",
        "outputId": "e07d3c92-c70e-41b5-a836-d0b9adf3fb1e"
      },
      "outputs": [
        {
          "name": "stdout",
          "output_type": "stream",
          "text": [
            "3\n",
            "7\n",
            "2\n",
            "11\n",
            "47.0/77.0\n"
          ]
        }
      ],
      "source": [
        "import math\n",
        "n1=float(input())\n",
        "d1=float(input())\n",
        "n2=float(input())\n",
        "d2=float(input())\n",
        "\n",
        "n=n1*d2+n2*d1\n",
        "d=d1*d2\n",
        "\n",
        "print('{}/{}'.format(n,d))"
      ]
    },
    {
      "cell_type": "markdown",
      "metadata": {
        "id": "eaql38ln13u7"
      },
      "source": [
        "### Q10:- Given the height, width and breadth of a milk tank, you have to find out how many glasses of milk can be obtained? Assume all the inputs are provided by the user.\n",
        "\n",
        "\n",
        "\n",
        "Input:<br>\n",
        "Dimensions of the milk tank<br>\n",
        "H = 20cm, L = 20cm, B = 20cm\n",
        "<br><br>\n",
        "Dimensions of the glass<br>\n",
        "h = 3cm, r = 1cm"
      ]
    },
    {
      "cell_type": "code",
      "execution_count": null,
      "metadata": {
        "colab": {
          "base_uri": "https://localhost:8080/"
        },
        "id": "FePZqno74eWv",
        "outputId": "110216bd-c10e-4f10-daf9-f6e3e0bcac85"
      },
      "outputs": [
        {
          "name": "stdout",
          "output_type": "stream",
          "text": [
            "20\n",
            "20\n",
            "20\n",
            "3\n",
            "1\n",
            "849.0\n"
          ]
        }
      ],
      "source": [
        "tank_h=int(input())\n",
        "tank_l=int(input())\n",
        "tank_b=int(input())\n",
        "\n",
        "glass_h=int(input())\n",
        "glass_r=int(input())\n",
        "\n",
        "tank=tank_h*tank_l*tank_b\n",
        "\n",
        "glass=3.14*glass_r*glass_r*glass_h\n",
        "\n",
        "print(tank//glass)\n"
      ]
    }
  ],
  "metadata": {
    "colab": {
      "provenance": []
    },
    "kernelspec": {
      "display_name": "Python 3",
      "name": "python3"
    },
    "language_info": {
      "codemirror_mode": {
        "name": "ipython",
        "version": 3
      },
      "file_extension": ".py",
      "mimetype": "text/x-python",
      "name": "python",
      "nbconvert_exporter": "python",
      "pygments_lexer": "ipython3",
      "version": "3.10.7"
    }
  },
  "nbformat": 4,
  "nbformat_minor": 0
}
